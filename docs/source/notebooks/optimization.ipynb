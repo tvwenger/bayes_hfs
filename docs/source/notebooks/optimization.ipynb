{
 "cells": [
  {
   "cell_type": "markdown",
   "id": "049ed0ad",
   "metadata": {},
   "source": [
    "# Optimization Tutorial\n",
    "\n",
    "Trey V. Wenger (c) July 2025\n",
    "\n",
    "Here we demonstrate how to optimize the number of cloud components in a `HFSRatioModel` model."
   ]
  },
  {
   "cell_type": "code",
   "execution_count": 1,
   "id": "f1c46dd4",
   "metadata": {
    "ExecuteTime": {
     "end_time": "2024-08-05T19:59:06.989214Z",
     "start_time": "2024-08-05T19:59:04.772064Z"
    }
   },
   "outputs": [
    {
     "name": "stdout",
     "output_type": "stream",
     "text": [
      "pytensor version: 2.30.3\n",
      "pymc version: 5.22.0\n",
      "arviz version: 0.22.0dev\n",
      "bayes_spec version: 1.9.0\n",
      "bayes_hfs version: 1+0.gc6f9e00.dirty\n"
     ]
    }
   ],
   "source": [
    "# General imports    \n",
    "import time\n",
    "\n",
    "import matplotlib.pyplot as plt\n",
    "import arviz as az\n",
    "import pandas as pd\n",
    "import numpy as np\n",
    "import pymc as pm\n",
    "\n",
    "import pytensor\n",
    "print(\"pytensor version:\", pytensor.__version__)\n",
    "\n",
    "print(\"pymc version:\", pm.__version__)\n",
    "print(\"arviz version:\", az.__version__)\n",
    "\n",
    "import bayes_spec\n",
    "print(\"bayes_spec version:\", bayes_spec.__version__)\n",
    "\n",
    "import bayes_hfs\n",
    "print(\"bayes_hfs version:\", bayes_hfs.__version__)\n",
    "\n",
    "# Notebook configuration\n",
    "pd.options.display.max_rows = None"
   ]
  },
  {
   "cell_type": "markdown",
   "id": "095dcef8-0068-4fa2-810b-964f7fa525e6",
   "metadata": {},
   "source": [
    "## Preparing Molecule Data"
   ]
  },
  {
   "cell_type": "code",
   "execution_count": 2,
   "id": "e927c983-f6d2-486e-bad2-2cae733c5061",
   "metadata": {},
   "outputs": [],
   "source": [
    "from bayes_hfs import get_molecule_data, supplement_molecule_data\n",
    "import pickle\n",
    "\n",
    "try:\n",
    "    all_mol_data_12CN, all_mol_metadata_12CN = get_molecule_data(\"CN, v=0,1\", fmin=100.0, fmax=200.0)\n",
    "    with open(\"mol_data_12CN.pkl\", \"wb\") as f:\n",
    "        pickle.dump(all_mol_data_12CN, f)\n",
    "    with open(\"mol_metadata_12CN.pkl\", \"wb\") as f:\n",
    "        pickle.dump(all_mol_metadata_12CN, f)\n",
    "except:\n",
    "    with open(\"mol_data_12CN.pkl\", \"rb\") as f:\n",
    "        all_mol_data_12CN = pickle.load(f)\n",
    "    with open(\"mol_metadata_12CN.pkl\", \"rb\") as f:\n",
    "        all_mol_metadata_12CN = pickle.load(f)\n",
    "\n",
    "# Keep only Kl = 0 transitions\n",
    "all_mol_data_12CN = all_mol_data_12CN[all_mol_data_12CN[\"Kl\"] == 0]\n",
    "\n",
    "# Add GLO\n",
    "all_mol_data_12CN[\"GLO\"] = 2 * all_mol_data_12CN[\"F1l\"]\n",
    "\n",
    "try:\n",
    "    all_mol_data_13CN, all_mol_metadata_13CN = get_molecule_data(\"C-13-N\", fmin=100.0, fmax=200.0)\n",
    "    with open(\"mol_data_13CN.pkl\", \"wb\") as f:\n",
    "        pickle.dump(all_mol_data_13CN, f)\n",
    "    with open(\"mol_metadata_13CN.pkl\", \"wb\") as f:\n",
    "        pickle.dump(all_mol_metadata_13CN, f)\n",
    "except:\n",
    "    with open(\"mol_data_13CN.pkl\", \"rb\") as f:\n",
    "        all_mol_data_13CN = pickle.load(f)\n",
    "    with open(\"mol_metadata_13CN.pkl\", \"rb\") as f:\n",
    "        all_mol_metadata_13CN = pickle.load(f)\n",
    "\n",
    "# Add GLO\n",
    "all_mol_data_13CN[\"GLO\"] = 2 * all_mol_data_13CN[\"F1l\"] + 1\n",
    "\n",
    "mol_data_12CN = supplement_molecule_data(all_mol_data_12CN, all_mol_metadata_12CN)\n",
    "mol_data_13CN = supplement_molecule_data(all_mol_data_13CN, all_mol_metadata_13CN)"
   ]
  },
  {
   "cell_type": "markdown",
   "id": "70d808d8",
   "metadata": {},
   "source": [
    "## Model Definition and Simulated Data"
   ]
  },
  {
   "cell_type": "code",
   "execution_count": 3,
   "id": "da706708",
   "metadata": {
    "ExecuteTime": {
     "end_time": "2024-08-05T19:59:10.588998Z",
     "start_time": "2024-08-05T19:59:06.991731Z"
    }
   },
   "outputs": [],
   "source": [
    "from bayes_spec import SpecData\n",
    "from bayes_hfs import HFSRatioModel\n",
    "\n",
    "# spectral axis definition\n",
    "freq_axis_12CN_1 = np.arange(113110.0, 113200.0, 0.2) # MHz\n",
    "freq_axis_12CN_2 = np.arange(113470.0, 113530.0, 0.2) # MHz\n",
    "freq_axis_13CN_1 = np.arange(108620.0, 108670.0, 0.2) # MHz\n",
    "freq_axis_13CN_2 = np.arange(108770.0, 108810.0, 0.2) # MHz\n",
    "\n",
    "# data noise can either be a scalar (assumed constant noise across the spectrum)\n",
    "# or an array of the same length as the data\n",
    "noise = 0.001 # K\n",
    "\n",
    "# brightness data. In this case, we just throw in some random data for now\n",
    "# since we are only doing this in order to simulate some actual data.\n",
    "brightness_data_12CN_1 = noise * np.random.randn(len(freq_axis_12CN_1)) # K\n",
    "brightness_data_12CN_2 = noise * np.random.randn(len(freq_axis_12CN_2)) # K\n",
    "brightness_data_13CN_1 = noise * np.random.randn(len(freq_axis_13CN_1)) # K\n",
    "brightness_data_13CN_2 = noise * np.random.randn(len(freq_axis_13CN_2)) # K\n",
    "\n",
    "# CNRatioModel expects observation names to contain either \"12CN\" or \"13CN\"\n",
    "observation_12CN_1 = SpecData(\n",
    "    freq_axis_12CN_1,\n",
    "    brightness_data_12CN_1,\n",
    "    noise,\n",
    "    xlabel=r\"LSRK Frequency (MHz)\",\n",
    "    ylabel=r\"CN $T_B$ (K)\",\n",
    ")\n",
    "observation_12CN_2 = SpecData(\n",
    "    freq_axis_12CN_2,\n",
    "    brightness_data_12CN_2,\n",
    "    noise,\n",
    "    xlabel=r\"LSRK Frequency (MHz)\",\n",
    "    ylabel=r\"CN $T_B$ (K)\",\n",
    ")\n",
    "observation_13CN_1 = SpecData(\n",
    "    freq_axis_13CN_1,\n",
    "    brightness_data_13CN_1,\n",
    "    noise,\n",
    "    xlabel=r\"LSRK Frequency (MHz)\",\n",
    "    ylabel=r\"$^{13}$CN $T_B$ (K)\",\n",
    ")\n",
    "observation_13CN_2 = SpecData(\n",
    "    freq_axis_13CN_2,\n",
    "    brightness_data_13CN_2,\n",
    "    noise,\n",
    "    xlabel=r\"LSRK Frequency (MHz)\",\n",
    "    ylabel=r\"$^{13}$CN $T_B$ (K)\",\n",
    ")\n",
    "dummy_data = {\n",
    "    \"12CN-1\": observation_12CN_1,\n",
    "    \"12CN-2\": observation_12CN_2,\n",
    "    \"13CN-1\": observation_13CN_1,\n",
    "    \"13CN-2\": observation_13CN_2,\n",
    "}\n",
    "\n",
    "# association each dataset with the related species\n",
    "mol_keys = {\n",
    "    \"12CN\": [\"12CN-1\", \"12CN-2\"],\n",
    "    \"13CN\": [\"13CN-1\", \"13CN-2\"],\n",
    "}"
   ]
  },
  {
   "cell_type": "code",
   "execution_count": 4,
   "id": "e183b304-a87b-4c53-83c6-03476a556585",
   "metadata": {},
   "outputs": [],
   "source": [
    "from bayes_hfs import HFSRatioModel\n",
    "from bayes_hfs import physics\n",
    "\n",
    "# Initialize and define the model\n",
    "n_clouds = 3 # number of cloud components\n",
    "baseline_degree = 0 # polynomial baseline degree\n",
    "model = HFSRatioModel(\n",
    "    mol_data_12CN, # molecular data for species 1\n",
    "    mol_data_13CN, # molecular data for species 2\n",
    "    mol_keys, # dataset association\n",
    "    dummy_data,\n",
    "    bg_temp = 2.7, # assumed background temperature (K)\n",
    "    Beff = 1.0, # beam efficiency\n",
    "    Feff = 1.0, # forward efficiency\n",
    "    n_clouds=n_clouds,\n",
    "    baseline_degree=baseline_degree,\n",
    "    seed=1234,\n",
    "    verbose=True\n",
    ")\n",
    "model.add_priors(\n",
    "    prior_log10_Ntot1 = [13.5, 0.5], # mean and width of log10 total column density prior of first species (cm-2)\n",
    "    prior_ratio = 0.1, # width of the column density ratio between the second and first species\n",
    "    prior_fwhm2 = 1.0, # width of FWHM^2 prior (km2 s-2)\n",
    "    prior_velocity = [-3.0, 3.0], # upper and lower limit of velocity prior (km/s)\n",
    "    prior_log10_Tex_CTEX = [0.75, 0.25], # mean and width of log10 CTEX excitation temperature prior (K)\n",
    "    assume_CTEX1 = False, # do not assume CTEX for the first species\n",
    "    assume_CTEX2 = False, # assume CTEX for the second species for speed\n",
    "    prior_log10_CTEX_variance = [-4.0, 1.0], # offset and width of log10 CTEX variance prior\n",
    "    clip_weights = 1.0e-9, # clip statistical weights between [clip_weights, 1-clip_weights]\n",
    "    clip_tau = -10.0, # clip optical depths below to prevent masers\n",
    "    prior_fwhm_L = None, # assume Gaussian line profile\n",
    "    prior_baseline_coeffs = None, # use default baseline priors\n",
    ")\n",
    "model.add_likelihood()\n",
    "\n",
    "sim_params = {\n",
    "    \"log10_Ntot_12CN\": np.array([13.8, 13.9, 14.0]),\n",
    "    \"ratio\": np.array([1.0/65.0, 1.0/60.0, 1.0/55.0]),\n",
    "    \"fwhm2\": np.array([1.0, 1.25, 1.5])**2.0,\n",
    "    \"velocity\": [-2.0, 0.0, 2.5],\n",
    "    \"log10_Tex_CTEX\": np.log10([4.46, 3.98, 3.16]),\n",
    "    \"log10_CTEX_variance\": np.array([-1.5, -2.0, -3.0]),\n",
    "    \"baseline_12CN-1_norm\": [0.0],\n",
    "    \"baseline_12CN-2_norm\": [0.0],\n",
    "    \"baseline_13CN-1_norm\": [0.0],\n",
    "    \"baseline_13CN-2_norm\": [0.0],\n",
    "}\n",
    "\n",
    "CTEX_weights_12CN = physics.calc_stat_weight(\n",
    "    model.mol1_data[\"states\"][\"deg\"][None, :],\n",
    "    model.mol1_data[\"states\"][\"E\"][None, :],\n",
    "    10.0 ** sim_params[\"log10_Tex_CTEX\"][:, None],\n",
    ").eval()\n",
    "\n",
    "CTEX_concentration_12CN = (\n",
    "    len(model.mol1_data[\"states\"][\"state\"])\n",
    "    * CTEX_weights_12CN\n",
    "    / 10.0**sim_params[\"log10_CTEX_variance\"][:, None]\n",
    ")\n",
    "\n",
    "from scipy.stats import dirichlet\n",
    "\n",
    "sim_params[\"weights_12CN\"] = np.stack([\n",
    "    dirichlet(CTEX_concentration_12CN[i]).rvs()[0] for i in range(n_clouds)\n",
    "])\n",
    "\n",
    "# add derived quantities to sim_params\n",
    "for key in model.cloud_deterministics:\n",
    "    if key not in sim_params.keys():\n",
    "        sim_params[key] = model.model[key].eval(sim_params, on_unused_input=\"ignore\")\n",
    "\n",
    "# Evaluate and save simulated observations\n",
    "sim_12CN_1 = model.model[\"12CN-1\"].eval(sim_params, on_unused_input=\"ignore\")\n",
    "sim_12CN_2 = model.model[\"12CN-2\"].eval(sim_params, on_unused_input=\"ignore\")\n",
    "sim_13CN_1 = model.model[\"13CN-1\"].eval(sim_params, on_unused_input=\"ignore\")\n",
    "sim_13CN_2 = model.model[\"13CN-2\"].eval(sim_params, on_unused_input=\"ignore\")\n",
    "\n",
    "# pack simulated data\n",
    "observation_12CN_1 = SpecData(\n",
    "    freq_axis_12CN_1,\n",
    "    sim_12CN_1,\n",
    "    noise,\n",
    "    xlabel=r\"LSRK Frequency (MHz)\",\n",
    "    ylabel=r\"CN $T_B$ (K)\",\n",
    ")\n",
    "observation_12CN_2 = SpecData(\n",
    "    freq_axis_12CN_2,\n",
    "    sim_12CN_2,\n",
    "    noise,\n",
    "    xlabel=r\"LSRK Frequency (MHz)\",\n",
    "    ylabel=r\"CN $T_B$ (K)\",\n",
    ")\n",
    "observation_13CN_1 = SpecData(\n",
    "    freq_axis_13CN_1,\n",
    "    sim_13CN_1,\n",
    "    noise,\n",
    "    xlabel=r\"LSRK Frequency (MHz)\",\n",
    "    ylabel=r\"$^{13}$CN $T_B$ (K)\",\n",
    ")\n",
    "observation_13CN_2 = SpecData(\n",
    "    freq_axis_13CN_2,\n",
    "    sim_13CN_2,\n",
    "    noise,\n",
    "    xlabel=r\"LSRK Frequency (MHz)\",\n",
    "    ylabel=r\"$^{13}$CN $T_B$ (K)\",\n",
    ")\n",
    "data = {\n",
    "    \"12CN-1\": observation_12CN_1,\n",
    "    \"12CN-2\": observation_12CN_2,\n",
    "    \"13CN-1\": observation_13CN_1,\n",
    "    \"13CN-2\": observation_13CN_2,\n",
    "}"
   ]
  },
  {
   "cell_type": "code",
   "execution_count": 5,
   "id": "0ecdcddd-9edc-4a57-81b1-a08663c693fc",
   "metadata": {},
   "outputs": [
    {
     "data": {
      "text/plain": [
       "{'log10_Ntot_12CN': array([13.8, 13.9, 14. ]),\n",
       " 'ratio': array([0.01538462, 0.01666667, 0.01818182]),\n",
       " 'fwhm2': array([1.    , 1.5625, 2.25  ]),\n",
       " 'velocity': [-2.0, 0.0, 2.5],\n",
       " 'log10_Tex_CTEX': array([0.64933486, 0.59988307, 0.49968708]),\n",
       " 'log10_CTEX_variance': array([-1.5, -2. , -3. ]),\n",
       " 'baseline_12CN-1_norm': [0.0],\n",
       " 'baseline_12CN-2_norm': [0.0],\n",
       " 'baseline_13CN-1_norm': [0.0],\n",
       " 'baseline_13CN-2_norm': [0.0],\n",
       " 'weights_12CN': array([[0.18099997, 0.35774445, 0.05141127, 0.10060146, 0.04239329,\n",
       "         0.11086714, 0.15598241],\n",
       "        [0.18391739, 0.37538564, 0.05147776, 0.0953406 , 0.04756006,\n",
       "         0.09716964, 0.14914891],\n",
       "        [0.22015952, 0.43069068, 0.03831167, 0.07664031, 0.03802426,\n",
       "         0.07752001, 0.11865354]]),\n",
       " 'log10_Ntot_13CN': array([11.98708664, 12.12184875, 12.25963731]),\n",
       " 'CTEX_weights_12CN': array([[1.99954842, 4.        , 0.59193533, 1.18327051, 0.58954346,\n",
       "         1.17923313, 1.76919492],\n",
       "        [1.99949396, 4.        , 0.51109864, 1.02161662, 0.5087849 ,\n",
       "         1.01771121, 1.52690069],\n",
       "        [1.99936267, 4.        , 0.35871387, 0.71691448, 0.35666979,\n",
       "         0.71346443, 1.07049146]]),\n",
       " 'Tex_12CN': array([[6.62377784, 4.84728125, 3.18024483],\n",
       "        [7.29549498, 5.1227256 , 3.24392405],\n",
       "        [3.48460532, 4.06018147, 3.16334071],\n",
       "        [3.66223901, 4.2517178 , 3.22631454],\n",
       "        [3.26304903, 3.72315005, 2.96168302],\n",
       "        [3.77468031, 4.02382954, 3.04074123],\n",
       "        [2.70675076, 4.08302572, 3.14052123],\n",
       "        [3.41789579, 3.88317284, 3.01669258],\n",
       "        [2.81252526, 4.2761819 , 3.20240169]]),\n",
       " 'tau_12CN': array([[0.02524333, 0.0360111 , 0.06420367],\n",
       "        [0.17973349, 0.2691383 , 0.50431054],\n",
       "        [0.28473286, 0.31504016, 0.51418762],\n",
       "        [0.33573084, 0.37674563, 0.64106031],\n",
       "        [0.38104257, 0.42733998, 0.68628587],\n",
       "        [0.88301926, 1.03135861, 1.74637405],\n",
       "        [0.32083078, 0.32311411, 0.53005213],\n",
       "        [0.26725006, 0.30419385, 0.50807069],\n",
       "        [0.03592579, 0.03636557, 0.06221058]]),\n",
       " 'tau_total_12CN': array([2.71350897, 3.11930731, 5.25675546]),\n",
       " 'TR_12CN': array([[4.27597848, 2.62918409, 1.20296471],\n",
       "        [4.91419543, 2.87859882, 1.25318148],\n",
       "        [1.44740238, 1.93265667, 1.18910571],\n",
       "        [1.59417095, 2.09880298, 1.23863245],\n",
       "        [1.26436858, 1.64130685, 1.0295351 ],\n",
       "        [1.68461726, 1.89689066, 1.09001642],\n",
       "        [0.8404223 , 1.94780861, 1.16743383],\n",
       "        [1.38876463, 1.77628294, 1.07132523],\n",
       "        [0.9174165 , 2.11549053, 1.21586649]]),\n",
       " 'CTEX_weights_13CN': array([[3.        , 0.99376119, 2.9815721 , 4.9699281 , 0.92851903,\n",
       "         0.31070072, 0.93202191, 1.55316693, 0.30874373, 0.92620269,\n",
       "         1.54373121, 0.92472116, 1.54142752, 2.15832747],\n",
       "        [3.        , 0.9930114 , 2.9793573 , 4.96631358, 0.80605378,\n",
       "         0.26984676, 0.80946217, 1.34890613, 0.26794283, 0.80380078,\n",
       "         1.33972638, 0.80236011, 1.3374862 , 1.87280054],\n",
       "        [3.        , 0.9912059 , 2.9740239 , 4.95760931, 0.57313394,\n",
       "         0.192086  , 0.57618799, 0.96013626, 0.19038061, 0.57111701,\n",
       "         0.95191395, 0.56982806, 0.94990964, 1.33015962]]),\n",
       " 'Tex_13CN': array([[3.63387014, 4.0123908 , 3.08464866],\n",
       "        [3.83675886, 4.4342716 , 3.08229104],\n",
       "        [3.84009247, 3.76818165, 3.2042096 ],\n",
       "        [3.74209719, 4.19126825, 3.15773939],\n",
       "        [4.66544699, 3.82749742, 3.11567771],\n",
       "        [4.52148561, 4.26470704, 3.07173897],\n",
       "        [5.00127202, 4.48112345, 3.08933137],\n",
       "        [5.39889112, 4.17955656, 3.20886035],\n",
       "        [5.20750875, 4.7045325 , 3.16240343],\n",
       "        [4.0212438 , 5.15561858, 3.02750414],\n",
       "        [4.02487718, 4.28049286, 3.14440333],\n",
       "        [3.89187731, 3.60468882, 2.9993573 ],\n",
       "        [4.17098129, 4.06799019, 3.15767616],\n",
       "        [4.19325594, 3.19195589, 3.24091144],\n",
       "        [4.12801426, 3.40738764, 3.11165721],\n",
       "        [4.93507743, 4.35670617, 3.05954754],\n",
       "        [4.05618042, 4.56249   , 3.11278043],\n",
       "        [4.01553487, 3.74768332, 3.06805292],\n",
       "        [3.95529061, 4.28992818, 3.1329999 ],\n",
       "        [4.40618018, 3.92832745, 3.12736718],\n",
       "        [4.18768408, 4.81107389, 3.18901639],\n",
       "        [4.46192129, 4.46628177, 3.31607163],\n",
       "        [4.2783927 , 4.38690557, 3.08338147],\n",
       "        [4.33093502, 5.06851471, 3.26663988],\n",
       "        [5.75698581, 4.81377011, 3.1490468 ],\n",
       "        [4.38657499, 4.66567441, 3.10011369],\n",
       "        [4.41108682, 3.55311919, 3.17987158],\n",
       "        [4.33931568, 3.82058713, 3.05597262]]),\n",
       " 'tau_13CN': array([[6.91016104e-05, 8.62078555e-05, 1.62414632e-04],\n",
       "        [8.13865602e-05, 1.16170996e-04, 1.98952714e-04],\n",
       "        [3.17002408e-05, 4.90748819e-05, 7.63535671e-05],\n",
       "        [1.47575919e-04, 1.80064378e-04, 3.49181577e-04],\n",
       "        [7.71761587e-05, 1.30964896e-04, 2.07535796e-04],\n",
       "        [2.17990215e-04, 2.89708089e-04, 5.72893422e-04],\n",
       "        [2.47769861e-04, 3.43972966e-04, 6.84887892e-04],\n",
       "        [7.31425101e-04, 1.29197271e-03, 2.11177097e-03],\n",
       "        [1.54527530e-03, 2.10941210e-03, 4.34270099e-03],\n",
       "        [8.23550053e-04, 9.98210130e-04, 2.27788743e-03],\n",
       "        [2.47848809e-03, 3.32640756e-03, 6.75966969e-03],\n",
       "        [1.07463295e-03, 1.45504622e-03, 2.63385994e-03],\n",
       "        [1.13999026e-03, 1.77112462e-03, 2.87381935e-03],\n",
       "        [8.52386088e-04, 1.47913347e-03, 2.13240347e-03],\n",
       "        [7.37813449e-04, 1.23676746e-03, 1.86095314e-03],\n",
       "        [3.77625764e-03, 5.59115358e-03, 1.15866992e-02],\n",
       "        [3.38711307e-03, 4.11006613e-03, 8.37106802e-03],\n",
       "        [9.41168554e-04, 1.25350083e-03, 2.32747602e-03],\n",
       "        [6.96307786e-03, 8.62039131e-03, 1.69549542e-02],\n",
       "        [3.35612901e-03, 5.45424590e-03, 8.73289194e-03],\n",
       "        [1.64511631e-03, 1.99815187e-03, 4.08158818e-03],\n",
       "        [1.15227317e-03, 1.76718272e-03, 2.94828359e-03],\n",
       "        [1.25328535e-03, 1.59472409e-03, 3.19246242e-03],\n",
       "        [8.79240704e-05, 1.04039577e-04, 2.20310632e-04],\n",
       "        [1.16316006e-05, 1.78720936e-05, 3.86220767e-05],\n",
       "        [2.82315246e-04, 3.78176622e-04, 8.07986128e-04],\n",
       "        [7.29919449e-05, 1.12072231e-04, 2.07457051e-04],\n",
       "        [1.98775501e-04, 2.92855454e-04, 5.68804114e-04]]),\n",
       " 'tau_total_13CN': array([0.03338432, 0.04615867, 0.08728389]),\n",
       " 'TR_13CN': array([[1.63769168, 1.96304246, 1.18617309],\n",
       "        [1.8108763 , 2.33556625, 1.184289  ],\n",
       "        [1.8136662 , 1.75193053, 1.28186856],\n",
       "        [1.72943434, 2.11957112, 1.24428871],\n",
       "        [2.54293543, 1.80263014, 1.21062722],\n",
       "        [2.41313236, 2.18424104, 1.17551796],\n",
       "        [2.84302083, 2.37219693, 1.18580068],\n",
       "        [3.20891541, 2.10436621, 1.28139781],\n",
       "        [3.03194919, 2.5728406 , 1.24385719],\n",
       "        [1.96259901, 2.98090426, 1.13437175],\n",
       "        [1.96568165, 2.19018492, 1.22695166],\n",
       "        [1.85033635, 1.60534487, 1.11222735],\n",
       "        [2.09347408, 2.00319904, 1.23749058],\n",
       "        [2.11306356, 1.26499364, 1.30450211],\n",
       "        [2.0557196 , 1.44064407, 1.20074399],\n",
       "        [2.77867001, 2.25756471, 1.15937469],\n",
       "        [1.99268517, 2.44131639, 1.20148997],\n",
       "        [1.9572337 , 1.72631391, 1.16600468],\n",
       "        [1.90319648, 2.19642801, 1.21615459],\n",
       "        [2.29963139, 1.87982136, 1.21163864],\n",
       "        [2.10608725, 2.66372918, 1.26092144],\n",
       "        [2.3491845 , 2.35308013, 1.3637902 ],\n",
       "        [2.18598191, 2.28226144, 1.17653557],\n",
       "        [2.23236108, 2.89813924, 1.32336919],\n",
       "        [3.53239079, 2.66305005, 1.2265218 ],\n",
       "        [2.2756973 , 2.52556554, 1.1848887 ],\n",
       "        [2.29749236, 1.55445369, 1.24843537],\n",
       "        [2.23371459, 1.78103118, 1.15001426]])}"
      ]
     },
     "execution_count": 5,
     "metadata": {},
     "output_type": "execute_result"
    }
   ],
   "source": [
    "sim_params"
   ]
  },
  {
   "cell_type": "markdown",
   "id": "20a2225f",
   "metadata": {},
   "source": [
    "## `Optimize`\n",
    "\n",
    "We use the `Optimize` class for optimization."
   ]
  },
  {
   "cell_type": "code",
   "execution_count": 6,
   "id": "ec488d1d",
   "metadata": {
    "ExecuteTime": {
     "end_time": "2024-08-05T19:59:10.725568Z",
     "start_time": "2024-08-05T19:59:10.599441Z"
    }
   },
   "outputs": [],
   "source": [
    "from bayes_spec import Optimize\n",
    "from bayes_hfs import HFSRatioModel\n",
    "\n",
    "# Initialize optimizer\n",
    "opt = Optimize(\n",
    "    HFSRatioModel,\n",
    "    mol_data_12CN, # molecular data for species 1\n",
    "    mol_data_13CN, # molecular data for species 2\n",
    "    mol_keys, # dataset association\n",
    "    data,\n",
    "    bg_temp = 2.7, # assumed background temperature (K)\n",
    "    Beff = 1.0, # beam efficiency\n",
    "    Feff = 1.0, # forward efficiency\n",
    "    max_n_clouds=5,\n",
    "    baseline_degree=baseline_degree,\n",
    "    seed=1234,\n",
    "    verbose=True\n",
    ")\n",
    "\n",
    "# Define each model\n",
    "opt.add_priors(\n",
    "    prior_log10_Ntot1 = [13.5, 0.5], # mean and width of log10 total column density prior of first species (cm-2)\n",
    "    prior_ratio = 0.1, # width of the column density ratio between the second and first species\n",
    "    prior_fwhm2 = 1.0, # width of FWHM^2 prior (km2 s-2)\n",
    "    prior_velocity = [-3.0, 3.0], # upper and lower limit of velocity prior (km/s)\n",
    "    prior_log10_Tex_CTEX = [0.75, 0.25], # mean and width of log10 CTEX excitation temperature prior (K)\n",
    "    assume_CTEX1 = False, # do not assume CTEX for the first species\n",
    "    assume_CTEX2 = True, # assume CTEX for the second species for speed\n",
    "    prior_log10_CTEX_variance = [-4.0, 1.0], # offset and width of log10 CTEX variance prior\n",
    "    clip_weights = 1.0e-9, # clip statistical weights between [clip_weights, 1-clip_weights]\n",
    "    clip_tau = -10.0, # clip optical depths below to prevent masers\n",
    "    prior_fwhm_L = None, # assume Gaussian line profile\n",
    "    prior_baseline_coeffs = None, # use default baseline priors\n",
    ")\n",
    "opt.add_likelihood()"
   ]
  },
  {
   "cell_type": "markdown",
   "id": "6b4b0d06",
   "metadata": {},
   "source": [
    "`Optimize` has created `max_n_clouds` models, where `opt.models[1]` has `n_clouds=1`, `opt.models[2]` has `n_clouds=2`, etc."
   ]
  },
  {
   "cell_type": "code",
   "execution_count": 7,
   "id": "e66910c3",
   "metadata": {
    "ExecuteTime": {
     "end_time": "2024-08-05T19:59:10.730059Z",
     "start_time": "2024-08-05T19:59:10.727121Z"
    }
   },
   "outputs": [
    {
     "name": "stdout",
     "output_type": "stream",
     "text": [
      "<bayes_hfs.hfs_ratio_model.HFSRatioModel object at 0x7bc38d9b2650>\n",
      "4\n"
     ]
    }
   ],
   "source": [
    "print(opt.models[4])\n",
    "print(opt.models[4].n_clouds)"
   ]
  },
  {
   "cell_type": "markdown",
   "id": "3cc17df3",
   "metadata": {},
   "source": [
    "By default (`approx=True`), the optimization algorithm first loops over every model and approximates the posterior distribution using variational inference. This is generally a bad idea, since VI is only an approximation and tends to struggle with complex models. Instead we use `approx=False` to sample every model with MCMC. This is slower but more robust.\n",
    "\n",
    "We can supply arguments to `fit` and `sample` via dictionaries. Whichever model is the first to have a BIC within `bic_threshold` of the minimum BIC is the \"best\" model. The algorithm will terminate early if successive models have increasing BICs or fail to converge."
   ]
  },
  {
   "cell_type": "code",
   "execution_count": 8,
   "id": "cf08c08c",
   "metadata": {
    "ExecuteTime": {
     "end_time": "2024-08-05T19:59:59.141293Z",
     "start_time": "2024-08-05T19:59:10.731559Z"
    }
   },
   "outputs": [
    {
     "name": "stdout",
     "output_type": "stream",
     "text": [
      "Null hypothesis BIC = 1.132e+07\n",
      "Sampling n_cloud = 1 posterior...\n",
      "Initializing NUTS using custom advi+adapt_diag strategy\n"
     ]
    },
    {
     "data": {
      "application/vnd.jupyter.widget-view+json": {
       "model_id": "dc0620af45164011a2d9f1d40849f287",
       "version_major": 2,
       "version_minor": 0
      },
      "text/plain": [
       "Output()"
      ]
     },
     "metadata": {},
     "output_type": "display_data"
    },
    {
     "data": {
      "text/html": [
       "<pre style=\"white-space:pre;overflow-x:auto;line-height:normal;font-family:Menlo,'DejaVu Sans Mono',consolas,'Courier New',monospace\"></pre>\n"
      ],
      "text/plain": []
     },
     "metadata": {},
     "output_type": "display_data"
    },
    {
     "name": "stderr",
     "output_type": "stream",
     "text": [
      "Convergence achieved at 41000\n",
      "Interrupted at 40,999 [20%]: Average Loss = 1.8552e+17\n",
      "Multiprocess sampling (8 chains in 8 jobs)\n",
      "NUTS: [baseline_12CN-1_norm, baseline_12CN-2_norm, baseline_13CN-1_norm, baseline_13CN-2_norm, log10_Ntot_12CN_norm, ratio_norm, fwhm2_norm, velocity_norm, log10_Tex_CTEX_norm, log10_CTEX_variance_norm, weights_12CN_norm]\n"
     ]
    },
    {
     "data": {
      "application/vnd.jupyter.widget-view+json": {
       "model_id": "8e29f032aa584eaabeb5d3af2fc9f53e",
       "version_major": 2,
       "version_minor": 0
      },
      "text/plain": [
       "Output()"
      ]
     },
     "metadata": {},
     "output_type": "display_data"
    },
    {
     "data": {
      "text/html": [
       "<pre style=\"white-space:pre;overflow-x:auto;line-height:normal;font-family:Menlo,'DejaVu Sans Mono',consolas,'Courier New',monospace\"></pre>\n"
      ],
      "text/plain": []
     },
     "metadata": {},
     "output_type": "display_data"
    },
    {
     "name": "stderr",
     "output_type": "stream",
     "text": [
      "Sampling 8 chains for 1_000 tune and 1_000 draw iterations (8_000 + 8_000 draws total) took 1162 seconds.\n"
     ]
    },
    {
     "name": "stdout",
     "output_type": "stream",
     "text": [
      "Adding log-likelihood to trace\n"
     ]
    },
    {
     "data": {
      "application/vnd.jupyter.widget-view+json": {
       "model_id": "eccdd056c7d14fb0a35585661fdd38e3",
       "version_major": 2,
       "version_minor": 0
      },
      "text/plain": [
       "Output()"
      ]
     },
     "metadata": {},
     "output_type": "display_data"
    },
    {
     "data": {
      "text/html": [
       "<pre style=\"white-space:pre;overflow-x:auto;line-height:normal;font-family:Menlo,'DejaVu Sans Mono',consolas,'Courier New',monospace\"></pre>\n"
      ],
      "text/plain": []
     },
     "metadata": {},
     "output_type": "display_data"
    },
    {
     "name": "stdout",
     "output_type": "stream",
     "text": [
      "GMM converged to unique solution\n",
      "n_cloud = 1 solution = 0 BIC = 2.335e+06\n",
      "\n",
      "Sampling n_cloud = 2 posterior...\n",
      "Initializing NUTS using custom advi+adapt_diag strategy\n"
     ]
    },
    {
     "data": {
      "application/vnd.jupyter.widget-view+json": {
       "model_id": "fc96ab4fc5fc471e92f43c49e20fa1fc",
       "version_major": 2,
       "version_minor": 0
      },
      "text/plain": [
       "Output()"
      ]
     },
     "metadata": {},
     "output_type": "display_data"
    },
    {
     "data": {
      "text/html": [
       "<pre style=\"white-space:pre;overflow-x:auto;line-height:normal;font-family:Menlo,'DejaVu Sans Mono',consolas,'Courier New',monospace\"></pre>\n"
      ],
      "text/plain": []
     },
     "metadata": {},
     "output_type": "display_data"
    },
    {
     "name": "stderr",
     "output_type": "stream",
     "text": [
      "Convergence achieved at 45400\n",
      "Interrupted at 45,399 [22%]: Average Loss = 7.3459e+19\n",
      "Multiprocess sampling (8 chains in 8 jobs)\n",
      "NUTS: [baseline_12CN-1_norm, baseline_12CN-2_norm, baseline_13CN-1_norm, baseline_13CN-2_norm, log10_Ntot_12CN_norm, ratio_norm, fwhm2_norm, velocity_norm, log10_Tex_CTEX_norm, log10_CTEX_variance_norm, weights_12CN_norm]\n"
     ]
    },
    {
     "data": {
      "application/vnd.jupyter.widget-view+json": {
       "model_id": "861cd0ad80284f53b47cd67cd6b34fcb",
       "version_major": 2,
       "version_minor": 0
      },
      "text/plain": [
       "Output()"
      ]
     },
     "metadata": {},
     "output_type": "display_data"
    },
    {
     "data": {
      "text/html": [
       "<pre style=\"white-space:pre;overflow-x:auto;line-height:normal;font-family:Menlo,'DejaVu Sans Mono',consolas,'Courier New',monospace\"></pre>\n"
      ],
      "text/plain": []
     },
     "metadata": {},
     "output_type": "display_data"
    },
    {
     "name": "stderr",
     "output_type": "stream",
     "text": [
      "Sampling 8 chains for 1_000 tune and 1_000 draw iterations (8_000 + 8_000 draws total) took 5737 seconds.\n"
     ]
    },
    {
     "name": "stdout",
     "output_type": "stream",
     "text": [
      "Adding log-likelihood to trace\n"
     ]
    },
    {
     "data": {
      "application/vnd.jupyter.widget-view+json": {
       "model_id": "e9885771b0b945be9d60ecd1b282656a",
       "version_major": 2,
       "version_minor": 0
      },
      "text/plain": [
       "Output()"
      ]
     },
     "metadata": {},
     "output_type": "display_data"
    },
    {
     "data": {
      "text/html": [
       "<pre style=\"white-space:pre;overflow-x:auto;line-height:normal;font-family:Menlo,'DejaVu Sans Mono',consolas,'Courier New',monospace\"></pre>\n"
      ],
      "text/plain": []
     },
     "metadata": {},
     "output_type": "display_data"
    },
    {
     "name": "stdout",
     "output_type": "stream",
     "text": [
      "GMM converged to unique solution\n",
      "n_cloud = 2 solution = 0 BIC = 6.866e+05\n",
      "\n",
      "Sampling n_cloud = 3 posterior...\n",
      "Initializing NUTS using custom advi+adapt_diag strategy\n"
     ]
    },
    {
     "data": {
      "application/vnd.jupyter.widget-view+json": {
       "model_id": "ba11fdc1774149698934949b92106ed3",
       "version_major": 2,
       "version_minor": 0
      },
      "text/plain": [
       "Output()"
      ]
     },
     "metadata": {},
     "output_type": "display_data"
    },
    {
     "data": {
      "text/html": [
       "<pre style=\"white-space:pre;overflow-x:auto;line-height:normal;font-family:Menlo,'DejaVu Sans Mono',consolas,'Courier New',monospace\"></pre>\n"
      ],
      "text/plain": []
     },
     "metadata": {},
     "output_type": "display_data"
    },
    {
     "name": "stderr",
     "output_type": "stream",
     "text": [
      "Convergence achieved at 56200\n",
      "Interrupted at 56,199 [28%]: Average Loss = 4.8623e+28\n",
      "Multiprocess sampling (8 chains in 8 jobs)\n",
      "NUTS: [baseline_12CN-1_norm, baseline_12CN-2_norm, baseline_13CN-1_norm, baseline_13CN-2_norm, log10_Ntot_12CN_norm, ratio_norm, fwhm2_norm, velocity_norm, log10_Tex_CTEX_norm, log10_CTEX_variance_norm, weights_12CN_norm]\n"
     ]
    },
    {
     "data": {
      "application/vnd.jupyter.widget-view+json": {
       "model_id": "b0b205ae9a4f40b7ad3bb9b0bddc8383",
       "version_major": 2,
       "version_minor": 0
      },
      "text/plain": [
       "Output()"
      ]
     },
     "metadata": {},
     "output_type": "display_data"
    },
    {
     "data": {
      "text/html": [
       "<pre style=\"white-space:pre;overflow-x:auto;line-height:normal;font-family:Menlo,'DejaVu Sans Mono',consolas,'Courier New',monospace\"></pre>\n"
      ],
      "text/plain": []
     },
     "metadata": {},
     "output_type": "display_data"
    },
    {
     "name": "stderr",
     "output_type": "stream",
     "text": [
      "Sampling 8 chains for 1_000 tune and 1_000 draw iterations (8_000 + 8_000 draws total) took 1155 seconds.\n"
     ]
    },
    {
     "name": "stdout",
     "output_type": "stream",
     "text": [
      "Adding log-likelihood to trace\n"
     ]
    },
    {
     "data": {
      "application/vnd.jupyter.widget-view+json": {
       "model_id": "188a1df2cf8c4b80afceb453f8657843",
       "version_major": 2,
       "version_minor": 0
      },
      "text/plain": [
       "Output()"
      ]
     },
     "metadata": {},
     "output_type": "display_data"
    },
    {
     "data": {
      "text/html": [
       "<pre style=\"white-space:pre;overflow-x:auto;line-height:normal;font-family:Menlo,'DejaVu Sans Mono',consolas,'Courier New',monospace\"></pre>\n"
      ],
      "text/plain": []
     },
     "metadata": {},
     "output_type": "display_data"
    },
    {
     "name": "stdout",
     "output_type": "stream",
     "text": [
      "There were 990 divergences in converged chains.\n",
      "GMM converged to unique solution\n",
      "6 of 8 chains appear converged.\n",
      "n_cloud = 3 solution = 0 BIC = -1.277e+04\n",
      "\n",
      "Sampling n_cloud = 4 posterior...\n",
      "Initializing NUTS using custom advi+adapt_diag strategy\n"
     ]
    },
    {
     "data": {
      "application/vnd.jupyter.widget-view+json": {
       "model_id": "f3abd93e3999498b81e31d5eb6e453f8",
       "version_major": 2,
       "version_minor": 0
      },
      "text/plain": [
       "Output()"
      ]
     },
     "metadata": {},
     "output_type": "display_data"
    },
    {
     "data": {
      "text/html": [
       "<pre style=\"white-space:pre;overflow-x:auto;line-height:normal;font-family:Menlo,'DejaVu Sans Mono',consolas,'Courier New',monospace\"></pre>\n"
      ],
      "text/plain": []
     },
     "metadata": {},
     "output_type": "display_data"
    },
    {
     "name": "stderr",
     "output_type": "stream",
     "text": [
      "Convergence achieved at 65600\n",
      "Interrupted at 65,599 [32%]: Average Loss = 7.3701e+21\n",
      "Multiprocess sampling (8 chains in 8 jobs)\n",
      "NUTS: [baseline_12CN-1_norm, baseline_12CN-2_norm, baseline_13CN-1_norm, baseline_13CN-2_norm, log10_Ntot_12CN_norm, ratio_norm, fwhm2_norm, velocity_norm, log10_Tex_CTEX_norm, log10_CTEX_variance_norm, weights_12CN_norm]\n"
     ]
    },
    {
     "data": {
      "application/vnd.jupyter.widget-view+json": {
       "model_id": "e07b986f96bf4282bf1e28b63ed825ae",
       "version_major": 2,
       "version_minor": 0
      },
      "text/plain": [
       "Output()"
      ]
     },
     "metadata": {},
     "output_type": "display_data"
    },
    {
     "data": {
      "text/html": [
       "<pre style=\"white-space:pre;overflow-x:auto;line-height:normal;font-family:Menlo,'DejaVu Sans Mono',consolas,'Courier New',monospace\"></pre>\n"
      ],
      "text/plain": []
     },
     "metadata": {},
     "output_type": "display_data"
    },
    {
     "name": "stderr",
     "output_type": "stream",
     "text": [
      "Sampling 8 chains for 1_000 tune and 1_000 draw iterations (8_000 + 8_000 draws total) took 5104 seconds.\n"
     ]
    },
    {
     "name": "stdout",
     "output_type": "stream",
     "text": [
      "Adding log-likelihood to trace\n"
     ]
    },
    {
     "data": {
      "application/vnd.jupyter.widget-view+json": {
       "model_id": "a88d931be6af4473a5a39b6c95389b91",
       "version_major": 2,
       "version_minor": 0
      },
      "text/plain": [
       "Output()"
      ]
     },
     "metadata": {},
     "output_type": "display_data"
    },
    {
     "data": {
      "text/html": [
       "<pre style=\"white-space:pre;overflow-x:auto;line-height:normal;font-family:Menlo,'DejaVu Sans Mono',consolas,'Courier New',monospace\"></pre>\n"
      ],
      "text/plain": []
     },
     "metadata": {},
     "output_type": "display_data"
    },
    {
     "name": "stdout",
     "output_type": "stream",
     "text": [
      "There were 330 divergences in converged chains.\n",
      "GMM found 3 unique solutions\n",
      "Solution 0: chains [np.int64(0), np.int64(1)]\n",
      "Solution 1: chains [np.int64(3), np.int64(6), np.int64(7)]\n",
      "Solution 2: chains [np.int64(4), np.int64(5)]\n",
      "7 of 8 chains appear converged.\n",
      "n_cloud = 4 solution = 0 BIC = -1.267e+04\n",
      "n_cloud = 4 solution = 1 BIC = -1.267e+04\n",
      "n_cloud = 4 solution = 2 BIC = -1.267e+04\n",
      "\n",
      "Stopping criteria met.\n",
      "Sampling n_cloud = 5 posterior...\n",
      "Initializing NUTS using custom advi+adapt_diag strategy\n"
     ]
    },
    {
     "data": {
      "application/vnd.jupyter.widget-view+json": {
       "model_id": "71866095674347f69b1cc5f38139569f",
       "version_major": 2,
       "version_minor": 0
      },
      "text/plain": [
       "Output()"
      ]
     },
     "metadata": {},
     "output_type": "display_data"
    },
    {
     "data": {
      "text/html": [
       "<pre style=\"white-space:pre;overflow-x:auto;line-height:normal;font-family:Menlo,'DejaVu Sans Mono',consolas,'Courier New',monospace\"></pre>\n"
      ],
      "text/plain": []
     },
     "metadata": {},
     "output_type": "display_data"
    },
    {
     "name": "stderr",
     "output_type": "stream",
     "text": [
      "Convergence achieved at 76300\n",
      "Interrupted at 76,299 [38%]: Average Loss = 7.9475e+24\n",
      "Multiprocess sampling (8 chains in 8 jobs)\n",
      "NUTS: [baseline_12CN-1_norm, baseline_12CN-2_norm, baseline_13CN-1_norm, baseline_13CN-2_norm, log10_Ntot_12CN_norm, ratio_norm, fwhm2_norm, velocity_norm, log10_Tex_CTEX_norm, log10_CTEX_variance_norm, weights_12CN_norm]\n"
     ]
    },
    {
     "data": {
      "application/vnd.jupyter.widget-view+json": {
       "model_id": "096add5ed5b644109f017eb7ea71b837",
       "version_major": 2,
       "version_minor": 0
      },
      "text/plain": [
       "Output()"
      ]
     },
     "metadata": {},
     "output_type": "display_data"
    },
    {
     "data": {
      "text/html": [
       "<pre style=\"white-space:pre;overflow-x:auto;line-height:normal;font-family:Menlo,'DejaVu Sans Mono',consolas,'Courier New',monospace\"></pre>\n"
      ],
      "text/plain": []
     },
     "metadata": {},
     "output_type": "display_data"
    },
    {
     "name": "stderr",
     "output_type": "stream",
     "text": [
      "Sampling 8 chains for 1_000 tune and 1_000 draw iterations (8_000 + 8_000 draws total) took 6427 seconds.\n"
     ]
    },
    {
     "name": "stdout",
     "output_type": "stream",
     "text": [
      "Adding log-likelihood to trace\n"
     ]
    },
    {
     "data": {
      "application/vnd.jupyter.widget-view+json": {
       "model_id": "d928aec3bcf945d1a21f8b1306d1813c",
       "version_major": 2,
       "version_minor": 0
      },
      "text/plain": [
       "Output()"
      ]
     },
     "metadata": {},
     "output_type": "display_data"
    },
    {
     "data": {
      "text/html": [
       "<pre style=\"white-space:pre;overflow-x:auto;line-height:normal;font-family:Menlo,'DejaVu Sans Mono',consolas,'Courier New',monospace\"></pre>\n"
      ],
      "text/plain": []
     },
     "metadata": {},
     "output_type": "display_data"
    },
    {
     "name": "stdout",
     "output_type": "stream",
     "text": [
      "There were 271 divergences in converged chains.\n",
      "No solution found!\n",
      "0 of 8 chains appear converged.\n",
      "\n",
      "Stopping criteria met.\n",
      "Stopping early.\n"
     ]
    }
   ],
   "source": [
    "fit_kwargs = {\n",
    "    \"rel_tolerance\": 0.01,\n",
    "    \"abs_tolerance\": 0.01,\n",
    "    \"learning_rate\": 0.001,\n",
    "}\n",
    "sample_kwargs = {\n",
    "    \"chains\": 8,\n",
    "    \"cores\": 8,\n",
    "    \"n_init\": 200_000,\n",
    "    \"init_kwargs\": fit_kwargs,\n",
    "    \"nuts_kwargs\": {\"target_accept\": 0.9},\n",
    "}\n",
    "solve_kwargs = {\n",
    "    \"init_params\": \"random_from_data\",\n",
    "    \"n_init\": 10,\n",
    "    \"max_iter\": 1_000,\n",
    "    \"kl_div_threshold\": 0.1,\n",
    "}\n",
    "opt.optimize(\n",
    "    bic_threshold=10.0,\n",
    "    sample_kwargs=sample_kwargs,\n",
    "    fit_kwargs=fit_kwargs,\n",
    "    solve_kwargs=solve_kwargs,\n",
    "    approx=False,\n",
    "    start_spread = {\"velocity_norm\": [0.1, 0.9]},\n",
    ")"
   ]
  },
  {
   "cell_type": "code",
   "execution_count": 9,
   "id": "0486ae8b",
   "metadata": {},
   "outputs": [
    {
     "data": {
      "text/plain": [
       "3"
      ]
     },
     "execution_count": 9,
     "metadata": {},
     "output_type": "execute_result"
    }
   ],
   "source": [
    "opt.best_model.n_clouds"
   ]
  },
  {
   "cell_type": "code",
   "execution_count": 12,
   "id": "ba72835b",
   "metadata": {},
   "outputs": [
    {
     "name": "stderr",
     "output_type": "stream",
     "text": [
      "Sampling: [12CN-1, 12CN-2, 13CN-1, 13CN-2]\n"
     ]
    },
    {
     "data": {
      "application/vnd.jupyter.widget-view+json": {
       "model_id": "41f75f108e0149ed902327f03bd229e3",
       "version_major": 2,
       "version_minor": 0
      },
      "text/plain": [
       "Output()"
      ]
     },
     "metadata": {},
     "output_type": "display_data"
    },
    {
     "data": {
      "text/html": [
       "<pre style=\"white-space:pre;overflow-x:auto;line-height:normal;font-family:Menlo,'DejaVu Sans Mono',consolas,'Courier New',monospace\"></pre>\n"
      ],
      "text/plain": []
     },
     "metadata": {},
     "output_type": "display_data"
    },
    {
     "data": {
      "image/png": "[encoded data removed]",
      "text/plain": [
       "<Figure size 640x480 with 4 Axes>"
      ]
     },
     "metadata": {},
     "output_type": "display_data"
    }
   ],
   "source": [
    "from bayes_spec.plots import plot_predictive\n",
    "\n",
    "posterior = opt.best_model.sample_posterior_predictive(\n",
    "    thin=100, # keep one in {thin} posterior samples\n",
    ")\n",
    "axes = plot_predictive(opt.best_model.data, posterior.posterior_predictive)"
   ]
  },
  {
   "cell_type": "code",
   "execution_count": 13,
   "id": "99a89912-b4ae-4f25-a1af-8005328aed12",
   "metadata": {},
   "outputs": [
    {
     "data": {
      "text/plain": [
       "Text(0, 0.5, 'BIC')"
      ]
     },
     "execution_count": 13,
     "metadata": {},
     "output_type": "execute_result"
    },
    {
     "data": {
      "image/png": "[encoded data removed]",
      "text/plain": [
       "<Figure size 640x480 with 1 Axes>"
      ]
     },
     "metadata": {},
     "output_type": "display_data"
    }
   ],
   "source": [
    "plt.plot(opt.bics.keys(), opt.bics.values(), 'ko')\n",
    "plt.xlabel(\"Number of Components\")\n",
    "plt.ylabel(\"BIC\")"
   ]
  },
  {
   "cell_type": "code",
   "execution_count": null,
   "id": "b7fc966b-4fdf-449f-8701-bd5b90869830",
   "metadata": {},
   "outputs": [],
   "source": []
  }
 ],
 "metadata": {
  "kernelspec": {
   "display_name": "Python 3 (ipykernel)",
   "language": "python",
   "name": "python3"
  },
  "language_info": {
   "codemirror_mode": {
    "name": "ipython",
    "version": 3
   },
   "file_extension": ".py",
   "mimetype": "text/x-python",
   "name": "python",
   "nbconvert_exporter": "python",
   "pygments_lexer": "ipython3",
   "version": "3.13.3"
  }
 },
 "nbformat": 4,
 "nbformat_minor": 5
}
